{
 "cells": [
  {
   "cell_type": "code",
   "execution_count": 4,
   "metadata": {},
   "outputs": [
    {
     "name": "stdout",
     "output_type": "stream",
     "text": [
      "Library Versions:\n",
      "Streamlit: 1.36.0\n",
      "Pandas: 2.0.3\n",
      "Numpy: 1.23.5\n",
      "yfinance: 0.2.27\n",
      "Matplotlib: 3.7.2\n",
      "PyPortfolioOpt: 1.5.5\n",
      "datetime: Built-in module, version not applicable.\n"
     ]
    }
   ],
   "source": [
    "import streamlit as st\n",
    "import pandas as pd\n",
    "import numpy as np\n",
    "import yfinance as yf\n",
    "import matplotlib\n",
    "import matplotlib.pyplot as plt\n",
    "import pypfopt\n",
    "\n",
    "def print_library_versions():\n",
    "    print(\"Library Versions:\")\n",
    "    print(f\"Streamlit: {st.__version__}\")\n",
    "    print(f\"Pandas: {pd.__version__}\")\n",
    "    print(f\"Numpy: {np.__version__}\")\n",
    "    print(f\"yfinance: {yf.__version__}\")\n",
    "    print(f\"Matplotlib: {matplotlib.__version__}\")\n",
    "    print(f\"PyPortfolioOpt: {pypfopt.__version__}\")\n",
    "    print(f\"datetime: Built-in module, version not applicable.\")\n",
    "\n",
    "if __name__ == \"__main__\":\n",
    "    print_library_versions()\n"
   ]
  },
  {
   "cell_type": "code",
   "execution_count": null,
   "metadata": {},
   "outputs": [],
   "source": []
  }
 ],
 "metadata": {
  "kernelspec": {
   "display_name": "backtest_dev",
   "language": "python",
   "name": "python3"
  },
  "language_info": {
   "codemirror_mode": {
    "name": "ipython",
    "version": 3
   },
   "file_extension": ".py",
   "mimetype": "text/x-python",
   "name": "python",
   "nbconvert_exporter": "python",
   "pygments_lexer": "ipython3",
   "version": "3.9.17"
  },
  "orig_nbformat": 4
 },
 "nbformat": 4,
 "nbformat_minor": 2
}
